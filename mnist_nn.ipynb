{
  "nbformat": 4,
  "nbformat_minor": 0,
  "metadata": {
    "colab": {
      "name": "MNIST.ipynb",
      "provenance": [],
      "authorship_tag": "ABX9TyMpADFiv3MAKHJuWxVLpvnB",
      "include_colab_link": true
    },
    "kernelspec": {
      "name": "python3",
      "display_name": "Python 3"
    }
  },
  "cells": [
    {
      "cell_type": "markdown",
      "metadata": {
        "id": "view-in-github",
        "colab_type": "text"
      },
      "source": [
        "<a href=\"https://colab.research.google.com/github/Nitin1901/Classification-of-MNIST-dataset/blob/master/MNIST.ipynb\" target=\"_parent\"><img src=\"https://colab.research.google.com/assets/colab-badge.svg\" alt=\"Open In Colab\"/></a>"
      ]
    },
    {
      "cell_type": "markdown",
      "metadata": {
        "id": "zF1hVX9HoZuJ",
        "colab_type": "text"
      },
      "source": [
        "# MNIST dataset \n",
        "\n",
        "This notebook provides a detailed insight of the NN architecture used, the callback procedure and other methods used.\n",
        "\n",
        "\n",
        "---\n",
        "\n",
        "\n",
        "\n",
        "---\n",
        "\n"
      ]
    },
    {
      "cell_type": "markdown",
      "metadata": {
        "id": "mKZbu5I_orO1",
        "colab_type": "text"
      },
      "source": [
        "### Importing the necessary libraries\n",
        "\n",
        "\n",
        "*   TensorFlow (v2.2)\n",
        "*   Numpy\n",
        "*   Matplotlib\n",
        "\n"
      ]
    },
    {
      "cell_type": "code",
      "metadata": {
        "id": "qxmsmA82bWjF",
        "colab_type": "code",
        "colab": {
          "base_uri": "https://localhost:8080/",
          "height": 34
        },
        "outputId": "022fefb4-173b-4fc1-8daf-c72553774376"
      },
      "source": [
        "import tensorflow as tf\n",
        "print(tf.__version__)\n",
        "\n",
        "import numpy as np\n",
        "\n",
        "import matplotlib.pyplot as plt"
      ],
      "execution_count": 13,
      "outputs": [
        {
          "output_type": "stream",
          "text": [
            "2.2.0\n"
          ],
          "name": "stdout"
        }
      ]
    },
    {
      "cell_type": "markdown",
      "metadata": {
        "id": "59lLQc1FpPX8",
        "colab_type": "text"
      },
      "source": [
        "### Importing the dataset\n",
        "\n",
        "The MNIST dataset, often termed as the \"Hello World\" for Neural Networks, is available in the Keras API and can be imported easily.\n"
      ]
    },
    {
      "cell_type": "code",
      "metadata": {
        "id": "nAny9TzfbhPt",
        "colab_type": "code",
        "colab": {}
      },
      "source": [
        "mnist = tf.keras.datasets.mnist"
      ],
      "execution_count": 2,
      "outputs": []
    },
    {
      "cell_type": "code",
      "metadata": {
        "id": "dQYkdMXXbn8h",
        "colab_type": "code",
        "colab": {
          "base_uri": "https://localhost:8080/",
          "height": 51
        },
        "outputId": "c5927ef5-14f0-4f8d-a9a5-e126dd448258"
      },
      "source": [
        "(x_train, y_train), (x_test, y_test) = mnist.load_data()"
      ],
      "execution_count": 3,
      "outputs": [
        {
          "output_type": "stream",
          "text": [
            "Downloading data from https://storage.googleapis.com/tensorflow/tf-keras-datasets/mnist.npz\n",
            "11493376/11490434 [==============================] - 0s 0us/step\n"
          ],
          "name": "stdout"
        }
      ]
    },
    {
      "cell_type": "markdown",
      "metadata": {
        "id": "iZZqlXTxb_bq",
        "colab_type": "text"
      },
      "source": [
        "### Data preprocessing\n",
        "\n",
        "The pixel values range from 0-255.\n",
        "\n",
        "Normalising the data can increase the performance of the model."
      ]
    },
    {
      "cell_type": "code",
      "metadata": {
        "id": "xBzuLcSicBUe",
        "colab_type": "code",
        "colab": {}
      },
      "source": [
        "x_train, x_test = x_train/255., x_test/255."
      ],
      "execution_count": 4,
      "outputs": []
    },
    {
      "cell_type": "markdown",
      "metadata": {
        "id": "WO5Gq9_icH8O",
        "colab_type": "text"
      },
      "source": [
        "### Building the model\n",
        "\n",
        "The model is architectured as:\n",
        "FLATTEN -> DENSE(128) -> DENSE(64) -> OUTPUT(10)\n",
        "\n",
        "Fortunately, we have Keras API which can construct the computational graph in just 4-5 lines of code. More about `Sequential`, `Dense` can be found [here](https://keras.io/api/)."
      ]
    },
    {
      "cell_type": "code",
      "metadata": {
        "id": "J8HaZSg5cF16",
        "colab_type": "code",
        "colab": {}
      },
      "source": [
        "model = tf.keras.Sequential([\n",
        "                             tf.keras.layers.Flatten(input_shape=(28,28)),\n",
        "                             tf.keras.layers.Dense(units=128, activation='relu'),\n",
        "                             tf.keras.layers.Dense(units=64, activation='relu'),\n",
        "                             tf.keras.layers.Dense(units=10, activation='softmax')\n",
        "                            ])"
      ],
      "execution_count": 5,
      "outputs": []
    },
    {
      "cell_type": "markdown",
      "metadata": {
        "id": "zhdFd9LIrn7o",
        "colab_type": "text"
      },
      "source": [
        "Compiling the model with `Adam` optimizer and `Sparse categorical cross entropy` as the loss function. \n",
        "\n",
        "The loss function describes how bad the model is and optimizer is responsible for improving the model."
      ]
    },
    {
      "cell_type": "code",
      "metadata": {
        "id": "DcYJLgabdfbE",
        "colab_type": "code",
        "colab": {}
      },
      "source": [
        "model.compile(loss=tf.keras.losses.sparse_categorical_crossentropy, optimizer='adam', metrics=['accuracy'])"
      ],
      "execution_count": 6,
      "outputs": []
    },
    {
      "cell_type": "markdown",
      "metadata": {
        "id": "4cVmWtZFsJSA",
        "colab_type": "text"
      },
      "source": [
        "Defining a custom `CallBack` class.\n",
        "A callback is used when we want the model to exit at a particular point(when the accuracy condt. is met). "
      ]
    },
    {
      "cell_type": "code",
      "metadata": {
        "id": "O_OzDppGdxrx",
        "colab_type": "code",
        "colab": {}
      },
      "source": [
        "class myCallBack(tf.keras.callbacks.Callback):\n",
        "    def on_epoch_end(self, epoch, logs={}):\n",
        "        if(logs['accuracy']>0.99):\n",
        "            print(\"\\n\\nAccuracy greater than 99%. Stopping the training\")\n",
        "            self.model.stop_training = True\n",
        "\n",
        "callbacks = myCallBack()"
      ],
      "execution_count": 7,
      "outputs": []
    },
    {
      "cell_type": "markdown",
      "metadata": {
        "id": "wqDpX_yXsZUG",
        "colab_type": "text"
      },
      "source": [
        "Training the model on `x_train`, `y_train` for 10 epochs with the custom callbacks set."
      ]
    },
    {
      "cell_type": "code",
      "metadata": {
        "id": "dkVUutyqduyw",
        "colab_type": "code",
        "colab": {
          "base_uri": "https://localhost:8080/",
          "height": 289
        },
        "outputId": "778f24e5-a569-4707-ce94-a5d283ad752e"
      },
      "source": [
        "model.fit(x_train, y_train, epochs=10, callbacks=[callbacks])"
      ],
      "execution_count": 8,
      "outputs": [
        {
          "output_type": "stream",
          "text": [
            "Epoch 1/10\n",
            "1875/1875 [==============================] - 4s 2ms/step - loss: 0.2397 - accuracy: 0.9303\n",
            "Epoch 2/10\n",
            "1875/1875 [==============================] - 3s 2ms/step - loss: 0.1002 - accuracy: 0.9696\n",
            "Epoch 3/10\n",
            "1875/1875 [==============================] - 3s 2ms/step - loss: 0.0694 - accuracy: 0.9786\n",
            "Epoch 4/10\n",
            "1875/1875 [==============================] - 3s 2ms/step - loss: 0.0523 - accuracy: 0.9837\n",
            "Epoch 5/10\n",
            "1875/1875 [==============================] - 3s 2ms/step - loss: 0.0429 - accuracy: 0.9862\n",
            "Epoch 6/10\n",
            "1875/1875 [==============================] - 3s 2ms/step - loss: 0.0350 - accuracy: 0.9882\n",
            "Epoch 7/10\n",
            "1871/1875 [============================>.] - ETA: 0s - loss: 0.0287 - accuracy: 0.9904Accuracy greater than 99%. Stopping the training\n",
            "1875/1875 [==============================] - 3s 2ms/step - loss: 0.0287 - accuracy: 0.9904\n"
          ],
          "name": "stdout"
        },
        {
          "output_type": "execute_result",
          "data": {
            "text/plain": [
              "<tensorflow.python.keras.callbacks.History at 0x7fe75f7c3c50>"
            ]
          },
          "metadata": {
            "tags": []
          },
          "execution_count": 8
        }
      ]
    },
    {
      "cell_type": "markdown",
      "metadata": {
        "id": "xJDUAG92syHo",
        "colab_type": "text"
      },
      "source": [
        "### Evaluating the model's performance\n",
        "\n",
        "We check the loss and acc on the test set using `.evaluate()` method."
      ]
    },
    {
      "cell_type": "code",
      "metadata": {
        "id": "f0teu8JfgRyG",
        "colab_type": "code",
        "colab": {
          "base_uri": "https://localhost:8080/",
          "height": 34
        },
        "outputId": "331bd13f-99de-4a27-e48e-60ead58d03da"
      },
      "source": [
        "loss, acc = model.evaluate(x_test, y_test)"
      ],
      "execution_count": 9,
      "outputs": [
        {
          "output_type": "stream",
          "text": [
            "313/313 [==============================] - 0s 1ms/step - loss: 0.0805 - accuracy: 0.9783\n"
          ],
          "name": "stdout"
        }
      ]
    },
    {
      "cell_type": "markdown",
      "metadata": {
        "id": "PvH4DTvetDQK",
        "colab_type": "text"
      },
      "source": [
        "Predicting the classes for x_test images."
      ]
    },
    {
      "cell_type": "code",
      "metadata": {
        "id": "yuCRWZ0QlTyj",
        "colab_type": "code",
        "colab": {
          "base_uri": "https://localhost:8080/",
          "height": 88
        },
        "outputId": "700fe8f3-edd3-491e-cf63-1314eb027dbc"
      },
      "source": [
        "p = model.predict_classes(x_test)"
      ],
      "execution_count": 11,
      "outputs": [
        {
          "output_type": "stream",
          "text": [
            "WARNING:tensorflow:From <ipython-input-11-baa316f78f20>:1: Sequential.predict_classes (from tensorflow.python.keras.engine.sequential) is deprecated and will be removed after 2021-01-01.\n",
            "Instructions for updating:\n",
            "Please use instead:* `np.argmax(model.predict(x), axis=-1)`,   if your model does multi-class classification   (e.g. if it uses a `softmax` last-layer activation).* `(model.predict(x) > 0.5).astype(\"int32\")`,   if your model does binary classification   (e.g. if it uses a `sigmoid` last-layer activation).\n"
          ],
          "name": "stdout"
        }
      ]
    },
    {
      "cell_type": "markdown",
      "metadata": {
        "id": "s_DoSlRMtUHr",
        "colab_type": "text"
      },
      "source": [
        "Locating the indices in the x_test where the model predicted wrong."
      ]
    },
    {
      "cell_type": "code",
      "metadata": {
        "id": "J1nvjfq9mGjF",
        "colab_type": "code",
        "colab": {}
      },
      "source": [
        "wrong_idx = np.where(p!=y_test)"
      ],
      "execution_count": 14,
      "outputs": []
    },
    {
      "cell_type": "markdown",
      "metadata": {
        "id": "mVpgatkEtj-Y",
        "colab_type": "text"
      },
      "source": [
        "Sample wrong output"
      ]
    },
    {
      "cell_type": "code",
      "metadata": {
        "id": "344mGQTKmvld",
        "colab_type": "code",
        "colab": {
          "base_uri": "https://localhost:8080/",
          "height": 316
        },
        "outputId": "1a69f5b9-f125-4877-dde5-ae3bf1f0471b"
      },
      "source": [
        "print(\"Real -\", y_test[wrong_idx[0][0]])\n",
        "print(\"Predicted -\", p[wrong_idx[0][0]])\n",
        "plt.imshow(x_test[wrong_idx[0][0]])"
      ],
      "execution_count": 19,
      "outputs": [
        {
          "output_type": "stream",
          "text": [
            "Real - 9\n",
            "Predicted - 8\n"
          ],
          "name": "stdout"
        },
        {
          "output_type": "execute_result",
          "data": {
            "text/plain": [
              "<matplotlib.image.AxesImage at 0x7fe75b647470>"
            ]
          },
          "metadata": {
            "tags": []
          },
          "execution_count": 19
        },
        {
          "output_type": "display_data",
          "data": {
            "image/png": "[encoded data removed]",
            "text/plain": [
              "<Figure size 432x288 with 1 Axes>"
            ]
          },
          "metadata": {
            "tags": [],
            "needs_background": "light"
          }
        }
      ]
    }
  ]
}
